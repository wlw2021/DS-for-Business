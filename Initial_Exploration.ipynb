{
 "cells": [
  {
   "cell_type": "code",
   "execution_count": 4,
   "id": "e4e2a21c",
   "metadata": {},
   "outputs": [
    {
     "data": {
      "text/plain": [
       "'/Users/pallabichandra/Downloads/CCM/CCM-site'"
      ]
     },
     "execution_count": 4,
     "metadata": {},
     "output_type": "execute_result"
    }
   ],
   "source": [
    "pwd"
   ]
  },
  {
   "cell_type": "code",
   "execution_count": 53,
   "id": "a04cdc67",
   "metadata": {},
   "outputs": [],
   "source": [
    "import pandas as pd \n",
    "df=pd.read_csv('/Users/pallabichandra/Downloads/student+performance/student/student-por.csv')"
   ]
  },
  {
   "cell_type": "code",
   "execution_count": 54,
   "id": "95cf98d5",
   "metadata": {},
   "outputs": [
    {
     "name": "stdout",
     "output_type": "stream",
     "text": [
      "Index(['school;sex;age;address;famsize;Pstatus;Medu;Fedu;Mjob;Fjob;reason;guardian;traveltime;studytime;failures;schoolsup;famsup;paid;activities;nursery;higher;internet;romantic;famrel;freetime;goout;Dalc;Walc;health;absences;G1;G2;G3'], dtype='object')\n"
     ]
    }
   ],
   "source": [
    "print(df.columns)"
   ]
  },
  {
   "cell_type": "code",
   "execution_count": 55,
   "id": "223478bc",
   "metadata": {},
   "outputs": [
    {
     "name": "stdout",
     "output_type": "stream",
     "text": [
      "649\n"
     ]
    }
   ],
   "source": [
    "print(len(df))"
   ]
  },
  {
   "cell_type": "code",
   "execution_count": 56,
   "id": "1309863c",
   "metadata": {},
   "outputs": [
    {
     "name": "stdout",
     "output_type": "stream",
     "text": [
      "GP;\"F\";18;\"U\";\"GT3\";\"A\";4;4;\"at_home\";\"teacher\";\"course\";\"mother\";2;2;0;\"yes\";\"no\";\"no\";\"no\";\"yes\";\"yes\";\"no\";\"no\";4;3;4;1;1;3;4;\"0\";\"11\";11\n"
     ]
    }
   ],
   "source": [
    "print(df.iloc[0][0])"
   ]
  },
  {
   "cell_type": "code",
   "execution_count": 57,
   "id": "109169c1",
   "metadata": {},
   "outputs": [
    {
     "name": "stdout",
     "output_type": "stream",
     "text": [
      "  school  sex age address famsize Pstatus Medu Fedu       Mjob        Fjob  \\\n",
      "0     GP  \"F\"  18     \"U\"   \"GT3\"     \"A\"    4    4  \"at_home\"   \"teacher\"   \n",
      "1     GP  \"F\"  17     \"U\"   \"GT3\"     \"T\"    1    1  \"at_home\"     \"other\"   \n",
      "2     GP  \"F\"  15     \"U\"   \"LE3\"     \"T\"    1    1  \"at_home\"     \"other\"   \n",
      "3     GP  \"F\"  15     \"U\"   \"GT3\"     \"T\"    4    2   \"health\"  \"services\"   \n",
      "4     GP  \"F\"  16     \"U\"   \"GT3\"     \"T\"    3    3    \"other\"     \"other\"   \n",
      "\n",
      "   ... famrel freetime goout Dalc Walc health absences    G1    G2  G3  \n",
      "0  ...      4        3     4    1    1      3        4   \"0\"  \"11\"  11  \n",
      "1  ...      5        3     3    1    1      3        2   \"9\"  \"11\"  11  \n",
      "2  ...      4        3     2    2    3      3        6  \"12\"  \"13\"  12  \n",
      "3  ...      3        2     2    1    1      5        0  \"14\"  \"14\"  14  \n",
      "4  ...      4        3     2    1    2      5        0  \"11\"  \"13\"  13  \n",
      "\n",
      "[5 rows x 33 columns]\n"
     ]
    }
   ],
   "source": [
    "import pandas as pd\n",
    "\n",
    "# Assuming your DataFrame is named df\n",
    "# Split the single string in each row by semicolons\n",
    "df_split = df.iloc[:, 0].str.split(';', expand=True)\n",
    "\n",
    "# Assign proper column names\n",
    "column_names = ['school', 'sex', 'age', 'address', 'famsize', 'Pstatus', 'Medu', 'Fedu', 'Mjob', 'Fjob',\n",
    "                'reason', 'guardian', 'traveltime', 'studytime', 'failures', 'schoolsup', 'famsup', 'paid',\n",
    "                'activities', 'nursery', 'higher', 'internet', 'romantic', 'famrel', 'freetime', 'goout',\n",
    "                'Dalc', 'Walc', 'health', 'absences', 'G1', 'G2', 'G3']\n",
    "df_split.columns = column_names\n",
    "\n",
    "# Now you have a DataFrame with properly separated columns\n",
    "# You can access values via column names effectively\n",
    "print(df_split.head())\n"
   ]
  },
  {
   "cell_type": "code",
   "execution_count": 60,
   "id": "fd5ac5b2",
   "metadata": {},
   "outputs": [],
   "source": [
    "# Save the DataFrame to a CSV file\n",
    "df_split.to_csv('df_split.csv', index=False)"
   ]
  },
  {
   "cell_type": "code",
   "execution_count": 61,
   "id": "3d67b359",
   "metadata": {},
   "outputs": [
    {
     "name": "stdout",
     "output_type": "stream",
     "text": [
      "  school  sex  age address famsize Pstatus  Medu  Fedu       Mjob        Fjob  \\\n",
      "0     GP  \"F\"   18     \"U\"   \"GT3\"     \"A\"     4     4  \"at_home\"   \"teacher\"   \n",
      "1     GP  \"F\"   17     \"U\"   \"GT3\"     \"T\"     1     1  \"at_home\"     \"other\"   \n",
      "2     GP  \"F\"   15     \"U\"   \"LE3\"     \"T\"     1     1  \"at_home\"     \"other\"   \n",
      "3     GP  \"F\"   15     \"U\"   \"GT3\"     \"T\"     4     2   \"health\"  \"services\"   \n",
      "4     GP  \"F\"   16     \"U\"   \"GT3\"     \"T\"     3     3    \"other\"     \"other\"   \n",
      "\n",
      "   ... famrel freetime  goout  Dalc  Walc health absences    G1    G2  G3  \n",
      "0  ...      4        3      4     1     1      3        4   \"0\"  \"11\"  11  \n",
      "1  ...      5        3      3     1     1      3        2   \"9\"  \"11\"  11  \n",
      "2  ...      4        3      2     2     3      3        6  \"12\"  \"13\"  12  \n",
      "3  ...      3        2      2     1     1      5        0  \"14\"  \"14\"  14  \n",
      "4  ...      4        3      2     1     2      5        0  \"11\"  \"13\"  13  \n",
      "\n",
      "[5 rows x 33 columns]\n"
     ]
    }
   ],
   "source": [
    "import pandas as pd\n",
    "\n",
    "# Read the CSV file into a DataFrame\n",
    "df_split = pd.read_csv('df_split.csv')\n",
    "\n",
    "# Display the DataFrame\n",
    "print(df_split.head())\n"
   ]
  },
  {
   "cell_type": "code",
   "execution_count": 62,
   "id": "e16b8d01",
   "metadata": {},
   "outputs": [
    {
     "name": "stdout",
     "output_type": "stream",
     "text": [
      "              age        Medu        Fedu  traveltime   studytime    failures  \\\n",
      "count  649.000000  649.000000  649.000000  649.000000  649.000000  649.000000   \n",
      "mean    16.744222    2.514638    2.306626    1.568567    1.930663    0.221880   \n",
      "std      1.218138    1.134552    1.099931    0.748660    0.829510    0.593235   \n",
      "min     15.000000    0.000000    0.000000    1.000000    1.000000    0.000000   \n",
      "25%     16.000000    2.000000    1.000000    1.000000    1.000000    0.000000   \n",
      "50%     17.000000    2.000000    2.000000    1.000000    2.000000    0.000000   \n",
      "75%     18.000000    4.000000    3.000000    2.000000    2.000000    0.000000   \n",
      "max     22.000000    4.000000    4.000000    4.000000    4.000000    3.000000   \n",
      "\n",
      "           famrel    freetime       goout        Dalc        Walc      health  \\\n",
      "count  649.000000  649.000000  649.000000  649.000000  649.000000  649.000000   \n",
      "mean     3.930663    3.180277    3.184900    1.502311    2.280431    3.536210   \n",
      "std      0.955717    1.051093    1.175766    0.924834    1.284380    1.446259   \n",
      "min      1.000000    1.000000    1.000000    1.000000    1.000000    1.000000   \n",
      "25%      4.000000    3.000000    2.000000    1.000000    1.000000    2.000000   \n",
      "50%      4.000000    3.000000    3.000000    1.000000    2.000000    4.000000   \n",
      "75%      5.000000    4.000000    4.000000    2.000000    3.000000    5.000000   \n",
      "max      5.000000    5.000000    5.000000    5.000000    5.000000    5.000000   \n",
      "\n",
      "         absences          G3  \n",
      "count  649.000000  649.000000  \n",
      "mean     3.659476   11.906009  \n",
      "std      4.640759    3.230656  \n",
      "min      0.000000    0.000000  \n",
      "25%      0.000000   10.000000  \n",
      "50%      2.000000   12.000000  \n",
      "75%      6.000000   14.000000  \n",
      "max     32.000000   19.000000  \n"
     ]
    }
   ],
   "source": [
    "print(df_split.describe())"
   ]
  },
  {
   "cell_type": "code",
   "execution_count": 63,
   "id": "4d35e225",
   "metadata": {},
   "outputs": [
    {
     "name": "stdout",
     "output_type": "stream",
     "text": [
      "              age        Medu        Fedu  traveltime   studytime    failures  \\\n",
      "count  649.000000  649.000000  649.000000  649.000000  649.000000  649.000000   \n",
      "mean    16.744222    2.514638    2.306626    1.568567    1.930663    0.221880   \n",
      "std      1.218138    1.134552    1.099931    0.748660    0.829510    0.593235   \n",
      "min     15.000000    0.000000    0.000000    1.000000    1.000000    0.000000   \n",
      "25%     16.000000    2.000000    1.000000    1.000000    1.000000    0.000000   \n",
      "50%     17.000000    2.000000    2.000000    1.000000    2.000000    0.000000   \n",
      "75%     18.000000    4.000000    3.000000    2.000000    2.000000    0.000000   \n",
      "max     22.000000    4.000000    4.000000    4.000000    4.000000    3.000000   \n",
      "\n",
      "           famrel    freetime       goout        Dalc        Walc      health  \\\n",
      "count  649.000000  649.000000  649.000000  649.000000  649.000000  649.000000   \n",
      "mean     3.930663    3.180277    3.184900    1.502311    2.280431    3.536210   \n",
      "std      0.955717    1.051093    1.175766    0.924834    1.284380    1.446259   \n",
      "min      1.000000    1.000000    1.000000    1.000000    1.000000    1.000000   \n",
      "25%      4.000000    3.000000    2.000000    1.000000    1.000000    2.000000   \n",
      "50%      4.000000    3.000000    3.000000    1.000000    2.000000    4.000000   \n",
      "75%      5.000000    4.000000    4.000000    2.000000    3.000000    5.000000   \n",
      "max      5.000000    5.000000    5.000000    5.000000    5.000000    5.000000   \n",
      "\n",
      "         absences          G3  \n",
      "count  649.000000  649.000000  \n",
      "mean     3.659476   11.906009  \n",
      "std      4.640759    3.230656  \n",
      "min      0.000000    0.000000  \n",
      "25%      0.000000   10.000000  \n",
      "50%      2.000000   12.000000  \n",
      "75%      6.000000   14.000000  \n",
      "max     32.000000   19.000000  \n"
     ]
    }
   ],
   "source": [
    "# Filter out only numeric columns\n",
    "numeric_columns = df_split.select_dtypes(include=['int64', 'float64'])\n",
    "\n",
    "# Generate descriptive statistics for numeric columns\n",
    "description = numeric_columns.describe()\n",
    "\n",
    "# Display the descriptive statistics\n",
    "print(description)\n"
   ]
  },
  {
   "cell_type": "code",
   "execution_count": 64,
   "id": "f9e663ea",
   "metadata": {},
   "outputs": [],
   "source": [
    "# Replace 'GP' with 0 and 'MS' with 1\n",
    "df_split['school'] = df_split['school'].replace({'GP': 0, 'MS': 1})"
   ]
  },
  {
   "cell_type": "code",
   "execution_count": 65,
   "id": "819166ed",
   "metadata": {},
   "outputs": [
    {
     "data": {
      "text/plain": [
       "0      0\n",
       "1      0\n",
       "2      0\n",
       "3      0\n",
       "4      0\n",
       "      ..\n",
       "644    1\n",
       "645    1\n",
       "646    1\n",
       "647    1\n",
       "648    1\n",
       "Name: school, Length: 649, dtype: int64"
      ]
     },
     "execution_count": 65,
     "metadata": {},
     "output_type": "execute_result"
    }
   ],
   "source": [
    "df_split['school']"
   ]
  },
  {
   "cell_type": "code",
   "execution_count": 97,
   "id": "075fae8c",
   "metadata": {},
   "outputs": [
    {
     "data": {
      "text/plain": [
       "0      0\n",
       "1      0\n",
       "2      0\n",
       "3      0\n",
       "4      0\n",
       "      ..\n",
       "644    0\n",
       "645    0\n",
       "646    0\n",
       "647    1\n",
       "648    1\n",
       "Name: sex, Length: 649, dtype: int64"
      ]
     },
     "execution_count": 97,
     "metadata": {},
     "output_type": "execute_result"
    }
   ],
   "source": [
    "# Replace 'F' with 0 and 'M' with 1 in the 'sex' column\n",
    "df_split['sex'] = df_split['sex'].replace({'\"F\"': 0, '\"M\"': 1})\n",
    "df_split['sex']\n"
   ]
  },
  {
   "cell_type": "code",
   "execution_count": 98,
   "id": "f00f56ef",
   "metadata": {},
   "outputs": [
    {
     "data": {
      "text/plain": [
       "0      1\n",
       "1      1\n",
       "2      1\n",
       "3      1\n",
       "4      1\n",
       "      ..\n",
       "644    0\n",
       "645    1\n",
       "646    1\n",
       "647    1\n",
       "648    0\n",
       "Name: address, Length: 649, dtype: int64"
      ]
     },
     "execution_count": 98,
     "metadata": {},
     "output_type": "execute_result"
    }
   ],
   "source": [
    "df_split['address'] = df_split['address'].replace({'\"R\"': 0, '\"U\"': 1})\n",
    "df_split['address']\n",
    "\n"
   ]
  },
  {
   "cell_type": "code",
   "execution_count": 99,
   "id": "6d7a2ab3",
   "metadata": {},
   "outputs": [
    {
     "data": {
      "text/plain": [
       "0      0\n",
       "1      1\n",
       "2      1\n",
       "3      1\n",
       "4      1\n",
       "      ..\n",
       "644    1\n",
       "645    1\n",
       "646    1\n",
       "647    1\n",
       "648    1\n",
       "Name: Pstatus, Length: 649, dtype: int64"
      ]
     },
     "execution_count": 99,
     "metadata": {},
     "output_type": "execute_result"
    }
   ],
   "source": [
    "df_split['Pstatus']= df_split['Pstatus'].replace({'\"A\"': 0, '\"T\"': 1})\n",
    "df_split['Pstatus']"
   ]
  },
  {
   "cell_type": "code",
   "execution_count": 100,
   "id": "40561196",
   "metadata": {},
   "outputs": [
    {
     "data": {
      "text/plain": [
       "0      1\n",
       "1      1\n",
       "2      0\n",
       "3      1\n",
       "4      1\n",
       "      ..\n",
       "644    1\n",
       "645    0\n",
       "646    1\n",
       "647    0\n",
       "648    0\n",
       "Name: famsize, Length: 649, dtype: int64"
      ]
     },
     "execution_count": 100,
     "metadata": {},
     "output_type": "execute_result"
    }
   ],
   "source": [
    "df_split['famsize']= df_split['famsize'].replace({'\"LE3\"': 0, '\"GT3\"': 1})\n",
    "df_split['famsize']"
   ]
  },
  {
   "cell_type": "code",
   "execution_count": 101,
   "id": "37f1924d",
   "metadata": {},
   "outputs": [
    {
     "data": {
      "text/plain": [
       "0      1\n",
       "1      0\n",
       "2      1\n",
       "3      0\n",
       "4      0\n",
       "      ..\n",
       "644    0\n",
       "645    0\n",
       "646    0\n",
       "647    0\n",
       "648    0\n",
       "Name: schoolsup, Length: 649, dtype: int64"
      ]
     },
     "execution_count": 101,
     "metadata": {},
     "output_type": "execute_result"
    }
   ],
   "source": [
    "df_split['schoolsup']= df_split['schoolsup'].replace({'\"yes\"': 1, '\"no\"': 0})\n",
    "df_split['schoolsup']"
   ]
  },
  {
   "cell_type": "code",
   "execution_count": 102,
   "id": "6dd06c99",
   "metadata": {},
   "outputs": [
    {
     "data": {
      "text/plain": [
       "0      0\n",
       "1      1\n",
       "2      0\n",
       "3      1\n",
       "4      1\n",
       "      ..\n",
       "644    0\n",
       "645    1\n",
       "646    0\n",
       "647    0\n",
       "648    0\n",
       "Name: famsup, Length: 649, dtype: int64"
      ]
     },
     "execution_count": 102,
     "metadata": {},
     "output_type": "execute_result"
    }
   ],
   "source": [
    "df_split['famsup']= df_split['famsup'].replace({'\"yes\"': 1, '\"no\"': 0})\n",
    "df_split['famsup']"
   ]
  },
  {
   "cell_type": "code",
   "execution_count": 107,
   "id": "3ab55e69",
   "metadata": {},
   "outputs": [
    {
     "data": {
      "text/plain": [
       "0      0\n",
       "1      0\n",
       "2      0\n",
       "3      0\n",
       "4      0\n",
       "      ..\n",
       "644    0\n",
       "645    0\n",
       "646    0\n",
       "647    0\n",
       "648    0\n",
       "Name: paid, Length: 649, dtype: int64"
      ]
     },
     "execution_count": 107,
     "metadata": {},
     "output_type": "execute_result"
    }
   ],
   "source": [
    "df_split['paid']= df_split['paid'].replace({'\"yes\"': 1, '\"no\"': 0})\n",
    "df_split['paid']"
   ]
  },
  {
   "cell_type": "code",
   "execution_count": 108,
   "id": "f3f8eeb4",
   "metadata": {},
   "outputs": [
    {
     "data": {
      "text/plain": [
       "0      1\n",
       "1      0\n",
       "2      1\n",
       "3      1\n",
       "4      1\n",
       "      ..\n",
       "644    0\n",
       "645    1\n",
       "646    1\n",
       "647    0\n",
       "648    0\n",
       "Name: nursery, Length: 649, dtype: int64"
      ]
     },
     "execution_count": 108,
     "metadata": {},
     "output_type": "execute_result"
    }
   ],
   "source": [
    " df_split['nursery']= df_split['nursery'].replace({'\"yes\"': 1, '\"no\"': 0})\n",
    "df_split['nursery']"
   ]
  },
  {
   "cell_type": "code",
   "execution_count": 109,
   "id": "1b1284d9",
   "metadata": {},
   "outputs": [
    {
     "data": {
      "text/plain": [
       "0      0\n",
       "1      0\n",
       "2      0\n",
       "3      1\n",
       "4      0\n",
       "      ..\n",
       "644    1\n",
       "645    0\n",
       "646    1\n",
       "647    0\n",
       "648    0\n",
       "Name: activities, Length: 649, dtype: int64"
      ]
     },
     "execution_count": 109,
     "metadata": {},
     "output_type": "execute_result"
    }
   ],
   "source": [
    "df_split['activities']= df_split['activities'].replace({'\"yes\"': 1, '\"no\"': 0})\n",
    "df_split['activities']"
   ]
  },
  {
   "cell_type": "code",
   "execution_count": 110,
   "id": "8cda4ec7",
   "metadata": {},
   "outputs": [
    {
     "data": {
      "text/plain": [
       "0      0\n",
       "1      1\n",
       "2      1\n",
       "3      1\n",
       "4      0\n",
       "      ..\n",
       "644    1\n",
       "645    1\n",
       "646    0\n",
       "647    1\n",
       "648    1\n",
       "Name: internet, Length: 649, dtype: int64"
      ]
     },
     "execution_count": 110,
     "metadata": {},
     "output_type": "execute_result"
    }
   ],
   "source": [
    "#higher,internet,romantic\n",
    "df_split['internet']= df_split['internet'].replace({'\"yes\"': 1, '\"no\"': 0})\n",
    "df_split['internet']\n"
   ]
  },
  {
   "cell_type": "code",
   "execution_count": 111,
   "id": "6da342c9",
   "metadata": {},
   "outputs": [
    {
     "data": {
      "text/plain": [
       "0      1\n",
       "1      1\n",
       "2      1\n",
       "3      1\n",
       "4      1\n",
       "      ..\n",
       "644    1\n",
       "645    1\n",
       "646    1\n",
       "647    1\n",
       "648    1\n",
       "Name: higher, Length: 649, dtype: int64"
      ]
     },
     "execution_count": 111,
     "metadata": {},
     "output_type": "execute_result"
    }
   ],
   "source": [
    "df_split['higher']= df_split['higher'].replace({'\"yes\"': 1, '\"no\"': 0})\n",
    "df_split['higher']"
   ]
  },
  {
   "cell_type": "code",
   "execution_count": 112,
   "id": "5b70653c",
   "metadata": {},
   "outputs": [
    {
     "data": {
      "text/plain": [
       "0      0\n",
       "1      0\n",
       "2      0\n",
       "3      1\n",
       "4      0\n",
       "      ..\n",
       "644    0\n",
       "645    0\n",
       "646    0\n",
       "647    0\n",
       "648    0\n",
       "Name: romantic, Length: 649, dtype: int64"
      ]
     },
     "execution_count": 112,
     "metadata": {},
     "output_type": "execute_result"
    }
   ],
   "source": [
    "df_split['romantic']= df_split['romantic'].replace({'\"yes\"': 1, '\"no\"': 0})\n",
    "df_split['romantic']"
   ]
  },
  {
   "cell_type": "code",
   "execution_count": 89,
   "id": "15e0dac0",
   "metadata": {},
   "outputs": [
    {
     "name": "stdout",
     "output_type": "stream",
     "text": [
      "   school  sex  age address famsize Pstatus  Medu  Fedu       Mjob  \\\n",
      "0       0  \"F\"   18     \"U\"   \"GT3\"     \"A\"     4     4  \"at_home\"   \n",
      "1       0  \"F\"   17     \"U\"   \"GT3\"     \"T\"     1     1  \"at_home\"   \n",
      "2       0  \"F\"   15     \"U\"   \"LE3\"     \"T\"     1     1  \"at_home\"   \n",
      "3       0  \"F\"   15     \"U\"   \"GT3\"     \"T\"     4     2   \"health\"   \n",
      "4       0  \"F\"   16     \"U\"   \"GT3\"     \"T\"     3     3    \"other\"   \n",
      "\n",
      "         Fjob  ... famrel freetime  goout  Dalc  Walc health absences    G1  \\\n",
      "0   \"teacher\"  ...      4        3      4     1     1      3        4   \"0\"   \n",
      "1     \"other\"  ...      5        3      3     1     1      3        2   \"9\"   \n",
      "2     \"other\"  ...      4        3      2     2     3      3        6  \"12\"   \n",
      "3  \"services\"  ...      3        2      2     1     1      5        0  \"14\"   \n",
      "4     \"other\"  ...      4        3      2     1     2      5        0  \"11\"   \n",
      "\n",
      "     G2  G3  \n",
      "0  \"11\"  11  \n",
      "1  \"11\"  11  \n",
      "2  \"13\"  12  \n",
      "3  \"14\"  14  \n",
      "4  \"13\"  13  \n",
      "\n",
      "[5 rows x 33 columns]\n"
     ]
    }
   ],
   "source": [
    "print(df_split.head())"
   ]
  },
  {
   "cell_type": "code",
   "execution_count": 118,
   "id": "b2b9cf3c",
   "metadata": {},
   "outputs": [
    {
     "name": "stdout",
     "output_type": "stream",
     "text": [
      "Number of unique values: 5\n",
      "Dummy variables:\n",
      "   Mjob_\"at_home\"  Mjob_\"health\"  Mjob_\"other\"  Mjob_\"services\"  \\\n",
      "0               1              0             0                0   \n",
      "1               1              0             0                0   \n",
      "2               1              0             0                0   \n",
      "3               0              1             0                0   \n",
      "4               0              0             1                0   \n",
      "\n",
      "   Mjob_\"teacher\"  \n",
      "0               0  \n",
      "1               0  \n",
      "2               0  \n",
      "3               0  \n",
      "4               0  \n"
     ]
    }
   ],
   "source": [
    "import pandas as pd\n",
    "\n",
    "# Assuming 'column_name' is the name of the column you want to create dummies for\n",
    "# Get the number of unique values in the column\n",
    "num_unique_values = df_split['Mjob'].nunique()\n",
    "\n",
    "# Create dummy variables with that many levels\n",
    "dummies = pd.get_dummies(df_split['Mjob'], prefix='Mjob')\n",
    "\n",
    "# Display the number of unique values and the dummy variables\n",
    "print(\"Number of unique values:\", num_unique_values)\n",
    "print(\"Dummy variables:\")\n",
    "print(dummies.head())\n",
    "\n",
    "# Concatenate the dummy variables with the original DataFrame\n",
    "df_split = pd.concat([df_split, dummies], axis=1)\n",
    "\n",
    "# Drop the original 'categorical_feature' column\n",
    "df_split.drop(columns=['Mjob'], inplace=True)\n"
   ]
  },
  {
   "cell_type": "code",
   "execution_count": 119,
   "id": "cd99a715",
   "metadata": {},
   "outputs": [
    {
     "name": "stdout",
     "output_type": "stream",
     "text": [
      "Number of unique values: 5\n",
      "Dummy variables:\n",
      "   Fjob_\"at_home\"  Fjob_\"health\"  Fjob_\"other\"  Fjob_\"services\"  \\\n",
      "0               0              0             0                0   \n",
      "1               0              0             1                0   \n",
      "2               0              0             1                0   \n",
      "3               0              0             0                1   \n",
      "4               0              0             1                0   \n",
      "\n",
      "   Fjob_\"teacher\"  \n",
      "0               1  \n",
      "1               0  \n",
      "2               0  \n",
      "3               0  \n",
      "4               0  \n"
     ]
    }
   ],
   "source": [
    "num_unique_values = df_split['Fjob'].nunique()\n",
    "\n",
    "# Create dummy variables with that many levels\n",
    "dummies = pd.get_dummies(df_split['Fjob'], prefix='Fjob')\n",
    "\n",
    "# Display the number of unique values and the dummy variables\n",
    "print(\"Number of unique values:\", num_unique_values)\n",
    "print(\"Dummy variables:\")\n",
    "print(dummies.head())\n",
    "# Concatenate the dummy variables with the original DataFrame\n",
    "df_split = pd.concat([df_split, dummies], axis=1)\n",
    "\n",
    "# Drop the original 'categorical_feature' column\n",
    "df_split.drop(columns=['Fjob'], inplace=True)"
   ]
  },
  {
   "cell_type": "code",
   "execution_count": 73,
   "id": "4785e093",
   "metadata": {},
   "outputs": [
    {
     "name": "stdout",
     "output_type": "stream",
     "text": [
      "Number of unique values: 4\n",
      "Dummy variables:\n",
      "   reason_\"course\"  reason_\"home\"  reason_\"other\"  reason_\"reputation\"\n",
      "0                1              0               0                    0\n",
      "1                1              0               0                    0\n",
      "2                0              0               1                    0\n",
      "3                0              1               0                    0\n",
      "4                0              1               0                    0\n"
     ]
    }
   ],
   "source": [
    "num_unique_values = df_split['reason'].nunique()\n",
    "\n",
    "# Create dummy variables with that many levels\n",
    "dummies = pd.get_dummies(df_split['reason'], prefix='reason')\n",
    "\n",
    "# Display the number of unique values and the dummy variables\n",
    "print(\"Number of unique values:\", num_unique_values)\n",
    "print(\"Dummy variables:\")\n",
    "print(dummies.head())"
   ]
  },
  {
   "cell_type": "code",
   "execution_count": 120,
   "id": "46fc55a4",
   "metadata": {},
   "outputs": [
    {
     "name": "stdout",
     "output_type": "stream",
     "text": [
      "Number of unique values: 3\n",
      "Dummy variables:\n",
      "   guardian_\"father\"  guardian_\"mother\"  guardian_\"other\"\n",
      "0                  0                  1                 0\n",
      "1                  1                  0                 0\n",
      "2                  0                  1                 0\n",
      "3                  0                  1                 0\n",
      "4                  1                  0                 0\n"
     ]
    }
   ],
   "source": [
    "num_unique_values = df_split['guardian'].nunique()\n",
    "\n",
    "# Create dummy variables with that many levels\n",
    "dummies = pd.get_dummies(df_split['guardian'], prefix='guardian')\n",
    "\n",
    "# Display the number of unique values and the dummy variables\n",
    "print(\"Number of unique values:\", num_unique_values)\n",
    "print(\"Dummy variables:\")\n",
    "print(dummies.head())\n",
    "# Concatenate the dummy variables with the original DataFrame\n",
    "df_split = pd.concat([df_split, dummies], axis=1)\n",
    "\n",
    "# Drop the original 'categorical_feature' column\n",
    "df_split.drop(columns=['guardian'], inplace=True)"
   ]
  },
  {
   "cell_type": "code",
   "execution_count": 127,
   "id": "61ef8984",
   "metadata": {},
   "outputs": [
    {
     "name": "stdout",
     "output_type": "stream",
     "text": [
      "Number of unique values: 4\n",
      "Dummy variables:\n",
      "   reason_\"course\"  reason_\"home\"  reason_\"other\"  reason_\"reputation\"\n",
      "0                1              0               0                    0\n",
      "1                1              0               0                    0\n",
      "2                0              0               1                    0\n",
      "3                0              1               0                    0\n",
      "4                0              1               0                    0\n"
     ]
    }
   ],
   "source": [
    "num_unique_values = df_split['reason'].nunique()\n",
    "\n",
    "# Create dummy variables with that many levels\n",
    "dummies = pd.get_dummies(df_split['reason'], prefix='reason')\n",
    "\n",
    "# Display the number of unique values and the dummy variables\n",
    "print(\"Number of unique values:\", num_unique_values)\n",
    "print(\"Dummy variables:\")\n",
    "print(dummies.head())\n",
    "# Concatenate the dummy variables with the original DataFrame\n",
    "df_split = pd.concat([df_split, dummies], axis=1)\n",
    "\n",
    "# Drop the original 'categorical_feature' column\n",
    "df_split.drop(columns=['reason'], inplace=True)"
   ]
  },
  {
   "cell_type": "code",
   "execution_count": 115,
   "id": "c2e59c43",
   "metadata": {},
   "outputs": [],
   "source": [
    "# Remove double quotes and convert to integers\n",
    "df_split['G1'] = df_split['G1'].str.replace('\"', '').astype(int)\n"
   ]
  },
  {
   "cell_type": "code",
   "execution_count": 116,
   "id": "5fc1ca8a",
   "metadata": {},
   "outputs": [],
   "source": [
    "# Remove double quotes and convert to integers\n",
    "df_split['G2'] = df_split['G2'].str.replace('\"', '').astype(int)\n"
   ]
  },
  {
   "cell_type": "code",
   "execution_count": 117,
   "id": "ab668923",
   "metadata": {},
   "outputs": [
    {
     "name": "stdout",
     "output_type": "stream",
     "text": [
      "0      11\n",
      "1      11\n",
      "2      13\n",
      "3      14\n",
      "4      13\n",
      "       ..\n",
      "644    11\n",
      "645    15\n",
      "646    12\n",
      "647    10\n",
      "648    11\n",
      "Name: G2, Length: 649, dtype: int64 0       0\n",
      "1       9\n",
      "2      12\n",
      "3      14\n",
      "4      11\n",
      "       ..\n",
      "644    10\n",
      "645    15\n",
      "646    11\n",
      "647    10\n",
      "648    10\n",
      "Name: G1, Length: 649, dtype: int64\n"
     ]
    }
   ],
   "source": [
    "print(df_split['G2'],df_split['G1'])"
   ]
  },
  {
   "cell_type": "code",
   "execution_count": 128,
   "id": "c0a9c827",
   "metadata": {},
   "outputs": [
    {
     "name": "stdout",
     "output_type": "stream",
     "text": [
      "   school  sex  age  address  famsize  Pstatus  Medu  Fedu  traveltime  \\\n",
      "0       0    0   18        1        1        0     4     4           2   \n",
      "1       0    0   17        1        1        1     1     1           1   \n",
      "2       0    0   15        1        0        1     1     1           1   \n",
      "3       0    0   15        1        1        1     4     2           1   \n",
      "4       0    0   16        1        1        1     3     3           1   \n",
      "\n",
      "   studytime  ...  Fjob_\"other\"  Fjob_\"services\"  Fjob_\"teacher\"  \\\n",
      "0          2  ...             0                0               1   \n",
      "1          2  ...             1                0               0   \n",
      "2          2  ...             1                0               0   \n",
      "3          3  ...             0                1               0   \n",
      "4          2  ...             1                0               0   \n",
      "\n",
      "   guardian_\"father\"  guardian_\"mother\"  guardian_\"other\"  reason_\"course\"  \\\n",
      "0                  0                  1                 0                1   \n",
      "1                  1                  0                 0                1   \n",
      "2                  0                  1                 0                0   \n",
      "3                  0                  1                 0                0   \n",
      "4                  1                  0                 0                0   \n",
      "\n",
      "   reason_\"home\"  reason_\"other\"  reason_\"reputation\"  \n",
      "0              0               0                    0  \n",
      "1              0               0                    0  \n",
      "2              0               1                    0  \n",
      "3              1               0                    0  \n",
      "4              1               0                    0  \n",
      "\n",
      "[5 rows x 46 columns]\n"
     ]
    }
   ],
   "source": [
    "print(df_split.head())"
   ]
  },
  {
   "cell_type": "code",
   "execution_count": 129,
   "id": "3eafe55f",
   "metadata": {},
   "outputs": [
    {
     "data": {
      "text/plain": [
       "Index(['school', 'sex', 'age', 'address', 'famsize', 'Pstatus', 'Medu', 'Fedu',\n",
       "       'traveltime', 'studytime', 'failures', 'schoolsup', 'famsup', 'paid',\n",
       "       'activities', 'nursery', 'higher', 'internet', 'romantic', 'famrel',\n",
       "       'freetime', 'goout', 'Dalc', 'Walc', 'health', 'absences', 'G1', 'G2',\n",
       "       'G3', 'Mjob_\"at_home\"', 'Mjob_\"health\"', 'Mjob_\"other\"',\n",
       "       'Mjob_\"services\"', 'Mjob_\"teacher\"', 'Fjob_\"at_home\"', 'Fjob_\"health\"',\n",
       "       'Fjob_\"other\"', 'Fjob_\"services\"', 'Fjob_\"teacher\"',\n",
       "       'guardian_\"father\"', 'guardian_\"mother\"', 'guardian_\"other\"',\n",
       "       'reason_\"course\"', 'reason_\"home\"', 'reason_\"other\"',\n",
       "       'reason_\"reputation\"'],\n",
       "      dtype='object')"
      ]
     },
     "execution_count": 129,
     "metadata": {},
     "output_type": "execute_result"
    }
   ],
   "source": [
    "df_split.columns"
   ]
  },
  {
   "cell_type": "code",
   "execution_count": 130,
   "id": "936e199c",
   "metadata": {},
   "outputs": [
    {
     "name": "stdout",
     "output_type": "stream",
     "text": [
      "Training set size: 467\n",
      "Testing set size: 52\n"
     ]
    }
   ],
   "source": [
    "# Your code goes here\n",
    "# Your code goes here\n",
    "\n",
    "from sklearn.model_selection import train_test_split\n",
    "\n",
    "# Assuming df is your DataFrame and X contains your features while y contains your target variable\n",
    "# Replace X and y with your actual feature and target variables\n",
    "\n",
    "# Splitting the data into features (X) and target variable (y)\n",
    "X = df_split.drop(columns=['G3'])  # Adjust 'target_column' to the name of your target column\n",
    "y = df_split['G3']\n",
    "\n",
    "# Splitting the data into training and testing sets with an 80-20 ratio\n",
    "X_train, X_test, y_train, y_test = train_test_split(X, y, test_size=0.2, random_state=42)\n",
    "\n",
    "# Printing the sizes of the split sets\n",
    "print(\"Training set size:\", len(X_train_sub))\n",
    "print(\"Testing set size:\", len(X_test_sub))\n"
   ]
  },
  {
   "cell_type": "code",
   "execution_count": 131,
   "id": "e09bc165",
   "metadata": {},
   "outputs": [
    {
     "name": "stdout",
     "output_type": "stream",
     "text": [
      "Mean Squared Error: 1.4758222268464474\n"
     ]
    }
   ],
   "source": [
    "from sklearn.linear_model import LinearRegression\n",
    "from sklearn.model_selection import train_test_split\n",
    "from sklearn.metrics import mean_squared_error\n",
    "model = LinearRegression()\n",
    "model.fit(X_train, y_train)\n",
    "\n",
    "# Predict on the test set\n",
    "y_pred = model.predict(X_test)\n",
    "\n",
    "# Evaluate the model\n",
    "mse = mean_squared_error(y_test, y_pred)\n",
    "print(\"Mean Squared Error:\", mse)"
   ]
  },
  {
   "cell_type": "code",
   "execution_count": 132,
   "id": "f1121b28",
   "metadata": {},
   "outputs": [
    {
     "name": "stdout",
     "output_type": "stream",
     "text": [
      "R-squared: 0.8486602531873926\n"
     ]
    }
   ],
   "source": [
    "# Calculate R-squared value on the test set\n",
    "r_squared = model.score(X_test, y_test)\n",
    "print(\"R-squared:\", r_squared)\n"
   ]
  },
  {
   "cell_type": "code",
   "execution_count": 133,
   "id": "4a5c1730",
   "metadata": {},
   "outputs": [
    {
     "name": "stdout",
     "output_type": "stream",
     "text": [
      "Training set size: 467\n",
      "Testing set size: 52\n"
     ]
    }
   ],
   "source": [
    "# Your code goes here\n",
    "# Your code goes here\n",
    "\n",
    "from sklearn.model_selection import train_test_split\n",
    "\n",
    "# Assuming df is your DataFrame and X contains your features while y contains your target variable\n",
    "# Replace X and y with your actual feature and target variables\n",
    "\n",
    "# Splitting the data into features (X) and target variable (y)\n",
    "X = df_split.drop(columns=['G3','G1','G2'])  # Adjust 'target_column' to the name of your target column\n",
    "y = df_split['G3']\n",
    "\n",
    "# Splitting the data into training and testing sets with an 80-20 ratio\n",
    "X_train, X_test, y_train, y_test = train_test_split(X, y, test_size=0.2, random_state=42)\n",
    "\n",
    "# Printing the sizes of the split sets\n",
    "print(\"Training set size:\", len(X_train_sub))\n",
    "print(\"Testing set size:\", len(X_test_sub))\n",
    "\n"
   ]
  },
  {
   "cell_type": "code",
   "execution_count": 134,
   "id": "8df77df2",
   "metadata": {},
   "outputs": [
    {
     "name": "stdout",
     "output_type": "stream",
     "text": [
      "Mean Squared Error: 8.190447670106705\n"
     ]
    }
   ],
   "source": [
    "from sklearn.linear_model import LinearRegression\n",
    "from sklearn.model_selection import train_test_split\n",
    "from sklearn.metrics import mean_squared_error\n",
    "model = LinearRegression()\n",
    "model.fit(X_train, y_train)\n",
    "\n",
    "# Predict on the test set\n",
    "y_pred = model.predict(X_test)\n",
    "\n",
    "# Evaluate the model\n",
    "mse = mean_squared_error(y_test, y_pred)\n",
    "print(\"Mean Squared Error:\", mse)"
   ]
  },
  {
   "cell_type": "code",
   "execution_count": 135,
   "id": "99e1b7c4",
   "metadata": {},
   "outputs": [
    {
     "name": "stdout",
     "output_type": "stream",
     "text": [
      "R-squared: 0.160101905143059\n"
     ]
    }
   ],
   "source": [
    "# Calculate R-squared value on the test set\n",
    "r_squared = model.score(X_test, y_test)\n",
    "print(\"R-squared:\", r_squared)\n",
    "\n"
   ]
  },
  {
   "cell_type": "code",
   "execution_count": null,
   "id": "1f61afb4",
   "metadata": {},
   "outputs": [],
   "source": []
  }
 ],
 "metadata": {
  "kernelspec": {
   "display_name": "Python 3 (ipykernel)",
   "language": "python",
   "name": "python3"
  },
  "language_info": {
   "codemirror_mode": {
    "name": "ipython",
    "version": 3
   },
   "file_extension": ".py",
   "mimetype": "text/x-python",
   "name": "python",
   "nbconvert_exporter": "python",
   "pygments_lexer": "ipython3",
   "version": "3.9.12"
  }
 },
 "nbformat": 4,
 "nbformat_minor": 5
}
